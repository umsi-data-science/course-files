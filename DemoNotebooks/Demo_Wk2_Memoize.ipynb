{
 "cells": [
  {
   "cell_type": "markdown",
   "metadata": {},
   "source": [
    "# Memoization\n",
    "- Exemplifies memoization with Fibonacci\n",
    "- Student practice with Factorials\n",
    "- Use of timeit.timeit() for benchmarking execution time"
   ]
  },
  {
   "cell_type": "markdown",
   "metadata": {},
   "source": [
    "### Original Fibonacci Function"
   ]
  },
  {
   "cell_type": "code",
   "execution_count": 1,
   "metadata": {},
   "outputs": [],
   "source": [
    "def fib(n):\n",
    "    if n == 0:\n",
    "        return 0\n",
    "    elif n == 1:\n",
    "        return 1\n",
    "    else:\n",
    "        x = fib(n-1)+fib(n-2)\n",
    "        return(x)"
   ]
  },
  {
   "cell_type": "markdown",
   "metadata": {},
   "source": [
    "### Sidebar: Introduction to Benchmarking with TimeIt\n",
    "Using the TimeIt module, we can capture how many seconds it takes for a function to execute. This helps us optimize for time.\n",
    "\n",
    "[TimeIt Documentation (Python 3)](https://docs.python.org/3/library/timeit.html), "
   ]
  },
  {
   "cell_type": "code",
   "execution_count": 2,
   "metadata": {},
   "outputs": [],
   "source": [
    "from timeit import timeit"
   ]
  },
  {
   "cell_type": "markdown",
   "metadata": {},
   "source": [
    "Let's see how long it would take for our function to find Fib(8)."
   ]
  },
  {
   "cell_type": "code",
   "execution_count": 3,
   "metadata": {},
   "outputs": [
    {
     "data": {
      "text/plain": [
       "9.396334130084142"
      ]
     },
     "execution_count": 3,
     "metadata": {},
     "output_type": "execute_result"
    }
   ],
   "source": [
    "# Argument 1: the function call we want timed, input included\n",
    "# Argument 2: a statement designating where timeit.timeit() cna find our function definition\n",
    "# In Jupyter notebooks, this generally involves \"from __main__ import {func_name}\".\n",
    "timeit(\"fib(n=8)\",\"from __main__ import fib\")"
   ]
  },
  {
   "cell_type": "markdown",
   "metadata": {},
   "source": [
    "### Sidebar: Benchmarking with %%timeit\n",
    "Adding %%timeit to the top of a cell within an iPynb notebook can similarly print off runtime for that cell.\n"
   ]
  },
  {
   "cell_type": "code",
   "execution_count": 4,
   "metadata": {},
   "outputs": [
    {
     "name": "stdout",
     "output_type": "stream",
     "text": [
      "9.43 µs ± 22.2 ns per loop (mean ± std. dev. of 7 runs, 100000 loops each)\n"
     ]
    }
   ],
   "source": [
    "%%timeit\n",
    "fib(n=8)"
   ]
  },
  {
   "cell_type": "markdown",
   "metadata": {},
   "source": [
    "### Fibonacci with Memoization"
   ]
  },
  {
   "cell_type": "code",
   "execution_count": 5,
   "metadata": {},
   "outputs": [],
   "source": [
    "# Establishes a cache and saves input-output pairs when observed\n",
    "def memo_fib(func):\n",
    "    memo_cache = {}\n",
    "    \n",
    "    def cache_check(n):\n",
    "        if(n not in memo_cache):\n",
    "            print(\"Adding to cache: solution where n=\"+str(n)+\".\")\n",
    "            memo_cache[n] = func(n)\n",
    "        return(memo_cache[n])\n",
    "    \n",
    "    return(cache_check)\n",
    "\n",
    "def fib(n):\n",
    "    if n == 0:\n",
    "        return 0\n",
    "    elif n == 1:\n",
    "        return 1\n",
    "    else:\n",
    "        x = fib(n-1)+fib(n-2)\n",
    "        return(x)\n",
    "    \n",
    "# Wraps our Fibonacci function in the memoization function decorator\n",
    "# Note that this changes the behavior of our fib(x) function calls\n",
    "fib = memo_fib(fib)"
   ]
  },
  {
   "cell_type": "markdown",
   "metadata": {},
   "source": [
    "Now that we've added memoization to our fib(n) function, let's benchmark fib(n=8) again to check our new caching mechanism's impact on runtime performance."
   ]
  },
  {
   "cell_type": "code",
   "execution_count": 7,
   "metadata": {},
   "outputs": [
    {
     "data": {
      "text/plain": [
       "0.17192578804679215"
      ]
     },
     "execution_count": 7,
     "metadata": {},
     "output_type": "execute_result"
    }
   ],
   "source": [
    "timeit(\"fib(n=8)\",\"from __main__ import fib\")"
   ]
  },
  {
   "cell_type": "markdown",
   "metadata": {},
   "source": [
    "### Peeking at our cache\n",
    "Manually inspecting a decorator cache can be a bit tricky to figure out initially.\n",
    "\n",
    "Using dir(Object) should indicate that our fib(n) function now has an attribute \"\\__closure__\", a tuple containing our original nested fib(n) function and our dictionary cache."
   ]
  },
  {
   "cell_type": "code",
   "execution_count": 6,
   "metadata": {},
   "outputs": [
    {
     "data": {
      "text/plain": [
       "(<cell at 0x7f9d28d3c6d8: function object at 0x7f9d28cf1950>,\n",
       " <cell at 0x7f9d28d3cb28: dict object at 0x7f9d284a1480>)"
      ]
     },
     "execution_count": 6,
     "metadata": {},
     "output_type": "execute_result"
    }
   ],
   "source": [
    "fib.__closure__"
   ]
  },
  {
   "cell_type": "code",
   "execution_count": 7,
   "metadata": {},
   "outputs": [
    {
     "name": "stdout",
     "output_type": "stream",
     "text": [
      "{1: 1, 0: 0, 2: 1, 3: 2, 4: 3, 5: 5, 6: 8, 7: 13, 8: 21}\n"
     ]
    }
   ],
   "source": [
    "print(fib.__closure__[1].cell_contents)"
   ]
  },
  {
   "cell_type": "markdown",
   "metadata": {},
   "source": [
    "***\n",
    "# Practicing with Factorials\n",
    "Implement the function below to return the [factorial](https://www.mathsisfun.com/numbers/factorial.html)\n",
    "of the numerical argument passed into it."
   ]
  },
  {
   "cell_type": "code",
   "execution_count": 8,
   "metadata": {},
   "outputs": [],
   "source": [
    "def factorial(n):\n",
    "    if(n==0):return(1)\n",
    "    elif(n==1):return(1)\n",
    "    else:return(n*factorial(n-1))"
   ]
  },
  {
   "cell_type": "code",
   "execution_count": 9,
   "metadata": {},
   "outputs": [],
   "source": [
    "test_dict = {0:1, 1:1, 2:2, 3:6, 5:120, 9:362880}\n",
    "for i in test_dict.keys():\n",
    "    assert(factorial(i)==test_dict[i])"
   ]
  },
  {
   "cell_type": "markdown",
   "metadata": {},
   "source": [
    "#### Benchmarking"
   ]
  },
  {
   "cell_type": "code",
   "execution_count": 15,
   "metadata": {},
   "outputs": [
    {
     "name": "stderr",
     "output_type": "stream",
     "text": [
      "UsageError: Line magic function `%%timeit` not found.\n"
     ]
    }
   ],
   "source": [
    "%%timeit\n",
    "factorial(n=8)\n",
    "\n",
    "# Alternatively, outside of ipynb, we would use:\n",
    "# timeit(\"factorial(n=8)\",\"from __main__ import factorial\")"
   ]
  },
  {
   "cell_type": "code",
   "execution_count": 16,
   "metadata": {},
   "outputs": [
    {
     "name": "stdout",
     "output_type": "stream",
     "text": [
      "1.22 µs ± 3.16 ns per loop (mean ± std. dev. of 7 runs, 1000000 loops each)\n"
     ]
    }
   ],
   "source": [
    "%%timeit\n",
    "factorial(n=8)\n",
    "\n",
    "# Alternatively, outside of ipynb, we would use:\n",
    "# timeit(\"factorial(n=100)\",\"from __main__ import factorial\")"
   ]
  },
  {
   "cell_type": "markdown",
   "metadata": {},
   "source": [
    "### Practice: write a function to memoize the results of our Factorial function\n",
    "Remember to timeit() to check the efficiency"
   ]
  },
  {
   "cell_type": "code",
   "execution_count": null,
   "metadata": {},
   "outputs": [],
   "source": []
  },
  {
   "cell_type": "code",
   "execution_count": null,
   "metadata": {},
   "outputs": [],
   "source": []
  }
 ],
 "metadata": {
  "kernelspec": {
   "display_name": "Python 3",
   "language": "python",
   "name": "python3"
  },
  "language_info": {
   "codemirror_mode": {
    "name": "ipython",
    "version": 3
   },
   "file_extension": ".py",
   "mimetype": "text/x-python",
   "name": "python",
   "nbconvert_exporter": "python",
   "pygments_lexer": "ipython3",
   "version": "3.7.3"
  }
 },
 "nbformat": 4,
 "nbformat_minor": 2
}
