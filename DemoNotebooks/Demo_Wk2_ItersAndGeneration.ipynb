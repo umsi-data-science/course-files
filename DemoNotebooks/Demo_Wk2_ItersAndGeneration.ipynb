{
 "cells": [
  {
   "cell_type": "markdown",
   "metadata": {},
   "source": [
    "# Iteration & Generation"
   ]
  },
  {
   "cell_type": "markdown",
   "metadata": {},
   "source": [
    "***\n",
    "## Iterators and Iterability\n",
    "You have surely had some exposure by now to Python's capacity for iteration through sequences (such as string, lists, etc.) and the ability for programmers to define new, customized classes. You may have not, however, been familiarized with the structures that enable you to make your own classes iterable.\n",
    "\n",
    "For an object in Python to be iterable, it must satisfy the \"Iterator Protocol,\" which entails having two particular methods:\n",
    "- Object.\\_\\_iter\\_\\_( ), a function that returns an iterator\n",
    "- Object.\\_\\_next\\_\\_( ), a function that controls the iteration process, as well as its eventual termination \n",
    "\n",
    "For example, let's build our own iterable class called VowelCatcher. VowelCatcher will take in a string on initialization and, when iterated upon, will return \"T\" if the corresponding letter in the given string is a vowel, returning \"F\" otherwise. At the end of iteration, it will also print off the vowel count and a converted string of T/F."
   ]
  },
  {
   "cell_type": "code",
   "execution_count": 1,
   "metadata": {},
   "outputs": [],
   "source": [
    "class VowelCatcher():\n",
    "    def __init__(self, given_string):\n",
    "        self.given_string = given_string\n",
    "        self.vowel_count = 0\n",
    "        self.converted = \"\"\n",
    "        # An iterator has to be able to \"remember\" where it is as it progresses\n",
    "        if(len(given_string)>=1):\n",
    "            self.position = 0\n",
    "    \n",
    "    def __iter__(self):\n",
    "        \"\"\"All __iter__ has to do is to return itself\"\"\"\n",
    "        return(self)\n",
    "    \n",
    "    def __next__(self):\n",
    "        # Checks position to ensure it appropriately signals end-of-iteration upon conclusion\n",
    "        # This prevents errors from going out-of-scope\n",
    "        if(self.position == len(self.given_string)):\n",
    "            print(\"Vowel Count: \"+str(self.vowel_count))\n",
    "            print(\"Converted: \"+str(self.converted))\n",
    "            raise(StopIteration)\n",
    "        else:\n",
    "            self.position += 1\n",
    "            #To simply print the letters directly: return(self.given_string[self.position-1])\n",
    "            if(self.given_string[self.position-1] in [\"A\",\"a\",\"E\",\"e\",\"I\",\"i\",\"O\",\"o\",\"U\",\"u\"]):\n",
    "                self.vowel_count += 1\n",
    "                self.converted += \"T\"\n",
    "                return(\"T\")\n",
    "            else:\n",
    "                self.converted += \"F\"\n",
    "                return(\"F\")"
   ]
  },
  {
   "cell_type": "code",
   "execution_count": 2,
   "metadata": {},
   "outputs": [
    {
     "name": "stdout",
     "output_type": "stream",
     "text": [
      "F\n",
      "T\n",
      "F\n",
      "F\n",
      "F\n",
      "T\n",
      "F\n",
      "Vowel Count: 2\n",
      "Converted: FTFFFTF\n"
     ]
    }
   ],
   "source": [
    "# Example of iteration through an instance of our new iterable class\n",
    "for i in VowelCatcher(given_string=\"Lobster\"):\n",
    "    print(i)"
   ]
  },
  {
   "cell_type": "markdown",
   "metadata": {},
   "source": [
    "### next(Object) and Iterator Exhaustion\n",
    "Let's declare a new instance of our iterable object class to demonstrate some properties of iterators / iteration that are worth knowing:\n",
    "- We can manually advance an iterator with next(Iterator)\n",
    "- Iterators only move forward and are non-reusable (but you can redeclare them as needed)"
   ]
  },
  {
   "cell_type": "markdown",
   "metadata": {},
   "source": [
    "Below are examples of advancing through an iterator using: next(obj), a for-loop, and both next(obj) and a for-loop."
   ]
  },
  {
   "cell_type": "code",
   "execution_count": 182,
   "metadata": {},
   "outputs": [
    {
     "name": "stdout",
     "output_type": "stream",
     "text": [
      "F\n",
      "T\n",
      "F\n",
      "T\n",
      "F\n"
     ]
    }
   ],
   "source": [
    "VC_Instance = VowelCatcher(\"Kayak\")\n",
    "print(next(VC_Instance))\n",
    "print(next(VC_Instance))\n",
    "print(next(VC_Instance))\n",
    "print(next(VC_Instance))\n",
    "print(next(VC_Instance))\n",
    "# Running the line below triggers a now-exhausted iterator, triggering StopIteration\n",
    "# print(next(VC_Iterator))"
   ]
  },
  {
   "cell_type": "code",
   "execution_count": 183,
   "metadata": {},
   "outputs": [
    {
     "name": "stdout",
     "output_type": "stream",
     "text": [
      "F\n",
      "T\n",
      "F\n",
      "T\n",
      "F\n",
      "Vowel Count: 2\n",
      "Converted: FTFTF\n"
     ]
    }
   ],
   "source": [
    "# Note how the for-loop will iterate until StopIteration is raised\n",
    "# and then quietly terminate the loop\n",
    "VC_Instance = VowelCatcher(\"Kayak\")\n",
    "for i in VC_Instance:\n",
    "    print(i)\n",
    "    "
   ]
  },
  {
   "cell_type": "code",
   "execution_count": 187,
   "metadata": {},
   "outputs": [
    {
     "name": "stdout",
     "output_type": "stream",
     "text": [
      "F\n",
      "T\n",
      "F\n",
      "Vowel Count: 2\n",
      "Converted: FTFTF\n"
     ]
    }
   ],
   "source": [
    "# Note the behavior of the for-loop after iterator engaged by next(Obj)\n",
    "VC_Instance = VowelCatcher(\"Kayak\")\n",
    "next(VC_Instance)\n",
    "next(VC_Instance)\n",
    "for i in VC_Instance:\n",
    "    print(i)"
   ]
  },
  {
   "cell_type": "markdown",
   "metadata": {},
   "source": [
    "***\n",
    "# Generators\n",
    "In the simplest form, a generator is any function that uses \"yield\", which returns from a function, but freezes the function until called to resume execution, rather than terminating the function the way a return statement does.\n",
    "\n",
    "The process of usinng a generator is effectively:\n",
    "- The function is called and returns an iterable generator object\n",
    "- next(generator_variable) is called and the function executes until its first yield statement\n",
    "- the function freezes and will resume when next(generator_variable) is called again\n",
    "\n",
    "For example, if we wanted to have a function that returned airport codes, but the rest of our program doesn't necessarily need all of the codes at the same time, and taking one at a time would suffice, a generator could be beneficial. Using a generator would avoid having to wait for the function to process all of the airport codes and having to store them all at once; a function could be written to simply \"yield\" one airport code each time it was called."
   ]
  },
  {
   "cell_type": "code",
   "execution_count": 244,
   "metadata": {},
   "outputs": [],
   "source": [
    "def Airports():\n",
    "    for airport_code in ['LGA', 'DTW', 'SFO', 'ATL', 'JFK', 'DEN']:\n",
    "        yield(airport_code)"
   ]
  },
  {
   "cell_type": "code",
   "execution_count": 249,
   "metadata": {},
   "outputs": [
    {
     "name": "stdout",
     "output_type": "stream",
     "text": [
      "<generator object Airports at 0x110c0e728>\n"
     ]
    }
   ],
   "source": [
    "airport_gen = Airports()\n",
    "print(airport_gen)"
   ]
  },
  {
   "cell_type": "code",
   "execution_count": 251,
   "metadata": {},
   "outputs": [
    {
     "name": "stdout",
     "output_type": "stream",
     "text": [
      "LGA DTW SFO\n",
      "Go Blue!\n",
      "ATL JFK\n"
     ]
    }
   ],
   "source": [
    "airport_gen = Airports()\n",
    "print(next(airport_gen), next(airport_gen), next(airport_gen))\n",
    "print(\"Go Blue!\")\n",
    "print(next(airport_gen), next(airport_gen))"
   ]
  },
  {
   "cell_type": "code",
   "execution_count": 254,
   "metadata": {},
   "outputs": [
    {
     "name": "stdout",
     "output_type": "stream",
     "text": [
      "Our next flight is from LGA to DTW\n",
      "Our next flight is from SFO to ATL\n",
      "Our next flight is from JFK to DEN\n"
     ]
    }
   ],
   "source": [
    "# An example of generator use in a function\n",
    "def FlightAnnouncer(n):\n",
    "    airport_stream = Airports()\n",
    "    for _ in range(n):\n",
    "        flight_from = next(airport_stream)\n",
    "        flight_to = next(airport_stream)\n",
    "        print(f\"Our next flight is from {flight_from} to {flight_to}\")\n",
    "FlightAnnouncer(n=3)"
   ]
  },
  {
   "cell_type": "markdown",
   "metadata": {},
   "source": [
    "Some additional properties of generators to be aware of:\n",
    "- Finite generators are non-reusable once exhausted // StopIter raised\n",
    "- Generators can made to infinitely yield values\n",
    "- As you can see with the dir() method // dir(gen_object), generators automatically have \\__iter__() and \\__next__()"
   ]
  },
  {
   "cell_type": "code",
   "execution_count": 261,
   "metadata": {},
   "outputs": [
    {
     "name": "stdout",
     "output_type": "stream",
     "text": [
      "['__class__', '__del__', '__delattr__', '__dir__', '__doc__', '__eq__', '__format__', '__ge__', '__getattribute__', '__gt__', '__hash__', '__init__', '__init_subclass__', '__iter__', '__le__', '__lt__', '__name__', '__ne__', '__new__', '__next__', '__qualname__', '__reduce__', '__reduce_ex__', '__repr__', '__setattr__', '__sizeof__', '__str__', '__subclasshook__', 'close', 'gi_code', 'gi_frame', 'gi_running', 'gi_yieldfrom', 'send', 'throw']\n"
     ]
    }
   ],
   "source": [
    "print(dir(Airports()))"
   ]
  },
  {
   "cell_type": "markdown",
   "metadata": {},
   "source": [
    "***"
   ]
  },
  {
   "cell_type": "markdown",
   "metadata": {},
   "source": [
    "## Generator Expressions\n",
    "Instead of making function-based generators, Python also affords the ability to create generator expressions.\n",
    "\n",
    "Like function-based generators, generator expressions are exhaustible and can be progressed with next().\n",
    "\n",
    "Visually, they may look similar to comprehensions"
   ]
  },
  {
   "cell_type": "code",
   "execution_count": 23,
   "metadata": {},
   "outputs": [
    {
     "name": "stdout",
     "output_type": "stream",
     "text": [
      "[(4, 'oboe'), (8, 'clarinet'), (9, 'saxophone'), (11, 'french horn'), (5, 'flute'), (7, 'trumpet'), (5, 'piano')] \n",
      "\n",
      "{'oboe': 4, 'clarinet': 8, 'saxophone': 9, 'french horn': 11, 'flute': 5, 'trumpet': 7, 'piano': 5} \n",
      "\n",
      "<generator object <genexpr> at 0x7fd51c0bd2a0>\n",
      "4\n"
     ]
    }
   ],
   "source": [
    "instruments = ['oboe','clarinet','saxophone','french horn','flute','trumpet','piano']\n",
    "\n",
    "# List Comprehension\n",
    "print([(len(each),each) for each in instruments],'\\n')\n",
    "\n",
    "# Dictionary Comprehension\n",
    "print({u:len(u) for u in instruments},'\\n')\n",
    "\n",
    "# A Generator Expression (rather than a Tuple Comprehension, which it may syntactically look like)\n",
    "genExp = (len(each) for each in instruments)\n",
    "print(genExp)\n",
    "print(next(genExp))"
   ]
  },
  {
   "cell_type": "markdown",
   "metadata": {},
   "source": [
    "***\n",
    "The below code cell exemplifies how a generator expression can modify the source before output, in this case by applying .upper() to each string object in the sequence."
   ]
  },
  {
   "cell_type": "code",
   "execution_count": 24,
   "metadata": {},
   "outputs": [
    {
     "name": "stdout",
     "output_type": "stream",
     "text": [
      "OBOE\n",
      "CLARINET\n",
      "SAXOPHONE\n",
      "FRENCH HORN\n",
      "FLUTE\n",
      "TRUMPET\n",
      "PIANO\n"
     ]
    }
   ],
   "source": [
    "instrum_gen = (inst.upper() for inst in instruments)\n",
    "\n",
    "for instrument in instrum_gen:\n",
    "    print(instrument)"
   ]
  },
  {
   "cell_type": "markdown",
   "metadata": {},
   "source": [
    "The below code cell reflects how generator expressions are also capable of using conditional expressions. In this case, the expression only generates values that are upper-case and are not a space or apostrophe character."
   ]
  },
  {
   "cell_type": "code",
   "execution_count": 25,
   "metadata": {},
   "outputs": [
    {
     "name": "stdout",
     "output_type": "stream",
     "text": [
      "T\n",
      "H\n",
      "G\n",
      "G\n"
     ]
    }
   ],
   "source": [
    "Title = \"The Hitchhiker's Guide to the Galaxy\"\n",
    "capitals = (char for char in Title if (char.upper()==char and char not in [\" \",\"'\"]))\n",
    "for letter in capitals:\n",
    "    print(letter)"
   ]
  },
  {
   "cell_type": "code",
   "execution_count": null,
   "metadata": {},
   "outputs": [],
   "source": []
  }
 ],
 "metadata": {
  "kernelspec": {
   "display_name": "Python 3",
   "language": "python",
   "name": "python3"
  },
  "language_info": {
   "codemirror_mode": {
    "name": "ipython",
    "version": 3
   },
   "file_extension": ".py",
   "mimetype": "text/x-python",
   "name": "python",
   "nbconvert_exporter": "python",
   "pygments_lexer": "ipython3",
   "version": "3.7.3"
  }
 },
 "nbformat": 4,
 "nbformat_minor": 2
}
