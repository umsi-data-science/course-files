{
 "cells": [
  {
   "cell_type": "markdown",
   "metadata": {},
   "source": [
    "# Caching Example (Decorator Version)\n",
    "This is an example of how to implement a cache using a few pages from the University of Michigan site."
   ]
  },
  {
   "cell_type": "markdown",
   "metadata": {},
   "source": [
    "### Imports"
   ]
  },
  {
   "cell_type": "code",
   "execution_count": 1,
   "metadata": {},
   "outputs": [],
   "source": [
    "import json\n",
    "import requests\n",
    "from functools import lru_cache"
   ]
  },
  {
   "cell_type": "markdown",
   "metadata": {},
   "source": [
    "### Cache Setup\n",
    "First we set our expected cache-file name and check for such a file.\n",
    "- If it is there, we load it in as a dictionary.\n",
    "- If it isn't there, we simply initialize a new, empty dictionary."
   ]
  },
  {
   "cell_type": "code",
   "execution_count": 2,
   "metadata": {},
   "outputs": [
    {
     "name": "stdout",
     "output_type": "stream",
     "text": [
      "Cache: not successfully loaded\n",
      "Starting fresh dictionary.\n"
     ]
    }
   ],
   "source": [
    "CACHE_FNAME = 'cache_umich_v2.json'\n",
    "try:\n",
    "    cache_file = open(CACHE_FNAME, 'r')\n",
    "    cache_contents = cache_file.read()\n",
    "    CACHE_DICT = json.loads(cache_contents)\n",
    "    cache_file.close()\n",
    "    print(\"Cache: successfully loaded.\")\n",
    "except: # But if anything doesn't work,\n",
    "    print(\"Cache: not successfully loaded\\nStarting fresh dictionary.\")\n",
    "    CACHE_DICT = {}"
   ]
  },
  {
   "cell_type": "markdown",
   "metadata": {},
   "source": [
    "### The Cache Function"
   ]
  },
  {
   "cell_type": "code",
   "execution_count": 3,
   "metadata": {},
   "outputs": [],
   "source": [
    "@lru_cache(maxsize=10)\n",
    "def Request_or_Cache(url):\n",
    "    # If this URL has already been requested, we should be able to re-use the saved data\n",
    "    if(url in CACHE_DICT):\n",
    "        print(\"\\tIdentifier \\\"{ID}\\\" found in cache; proceeding with cached data.\".format(ID=url))\n",
    "        return(CACHE_DICT[url])\n",
    "    # Otherwise, proceed with the request, save the data, and write it to our cache-file\n",
    "    else:\n",
    "        print(\"\\tIdentifier \\\"{ID}\\\" not found in cache; proceeding with request.\".format(ID=url))\n",
    "        response = requests.get(url)\n",
    "        CACHE_DICT[url] = response.text\n",
    "        \n",
    "        # Dump to File\n",
    "        fw = open(CACHE_FNAME,'w')\n",
    "        fw.write(json.dumps(CACHE_DICT))\n",
    "        fw.close()\n",
    "        \n",
    "        # Remember to return the response\n",
    "        # print(CACHE_DICT[url])\n",
    "        return(CACHE_DICT[url])"
   ]
  },
  {
   "cell_type": "markdown",
   "metadata": {},
   "source": [
    "### Target URL Setup"
   ]
  },
  {
   "cell_type": "code",
   "execution_count": 4,
   "metadata": {},
   "outputs": [],
   "source": [
    "base_url = \"https://umich.edu\"\n",
    "extensions = [\"/\",\"/about\",\"/academics\",\"/life-at-michigan\",\"/athletics\",\"/research\"]"
   ]
  },
  {
   "cell_type": "code",
   "execution_count": 5,
   "metadata": {},
   "outputs": [
    {
     "name": "stdout",
     "output_type": "stream",
     "text": [
      "\tIdentifier \"https://umich.edu/\" not found in cache; proceeding with request.\n",
      "Data from extension: \"/\" acquired.\n",
      "==========================================================================================\n",
      "\tIdentifier \"https://umich.edu/about\" not found in cache; proceeding with request.\n",
      "Data from extension: \"/about\" acquired.\n",
      "==========================================================================================\n",
      "\tIdentifier \"https://umich.edu/academics\" not found in cache; proceeding with request.\n",
      "Data from extension: \"/academics\" acquired.\n",
      "==========================================================================================\n",
      "\tIdentifier \"https://umich.edu/life-at-michigan\" not found in cache; proceeding with request.\n",
      "Data from extension: \"/life-at-michigan\" acquired.\n",
      "==========================================================================================\n",
      "\tIdentifier \"https://umich.edu/athletics\" not found in cache; proceeding with request.\n",
      "Data from extension: \"/athletics\" acquired.\n",
      "==========================================================================================\n",
      "\tIdentifier \"https://umich.edu/research\" not found in cache; proceeding with request.\n",
      "Data from extension: \"/research\" acquired.\n",
      "==========================================================================================\n"
     ]
    },
    {
     "data": {
      "text/plain": [
       "'\\n    Although printing the textual block-M in the site code could be cool and memorable, it could be overkill to do\\nfive times, just in terms of generating excess output.\\n'"
      ]
     },
     "execution_count": 5,
     "metadata": {},
     "output_type": "execute_result"
    }
   ],
   "source": [
    "for ext in extensions:\n",
    "    page_data = Request_or_Cache(url=base_url+ext)\n",
    "    print(\"Data from extension: \\\"{ext}\\\" acquired.\".format(ext=ext))\n",
    "    print(\"==========\"*9)\n",
    "\"\"\"\n",
    "    Although printing the textual block-M in the site code could be cool and memorable, it could be overkill to do\n",
    "five times, just in terms of generating excess output.\n",
    "\"\"\""
   ]
  },
  {
   "cell_type": "markdown",
   "metadata": {},
   "source": [
    "### Data can be returned from the function or accessed directly through our dictionary:"
   ]
  },
  {
   "cell_type": "code",
   "execution_count": 7,
   "metadata": {},
   "outputs": [
    {
     "name": "stdout",
     "output_type": "stream",
     "text": [
      "<!DOCTYPE html>\n",
      "<html lang=\"en\">\n",
      "<head>\n",
      "\t<meta name=\"viewport\" content=\"width=device-width, initial-scale=1.0\">\n",
      "    <meta http-equiv=\"Content-Type\" content=\"text/html; charset=UTF-8\" />\n",
      "        <meta name=\"description\" content=\"Academic excellence across disciplines has been our byword for 200 years. A leader in higher education, U-M offers more than 250 degree programs.\" />\n",
      "    \n",
      "    <title>Academics &rsaquo; University of Michigan</title>\n",
      "    <!--\n",
      "    MMMMMMMMMMMMMMMMMMMMMMMMMMMMMMMMMMMMMMMMMMMMMMMMMMMMMMMMMMMM\n",
      "    MMMMMMMMMMMMMMMMMMMMMMMMMMMMMMMMMMMMMMMMMMMMMMMMMMMMMMMMMMMM\n",
      "    MMMMMMMMMMMMMMMMMMMMMMMMMMMMMMMMMMMMMMMMMMMMMMMMMMMMMMMMMMMM\n",
      "    MMMMMMMMMMMMMMMMMMMMMMMMMMMMMMMMMMMMMMMMMMMMMMMMMMMMMMMMMMMM\n",
      "    MMMMMMMM             MMMMMMMMMMMMMMMMM             MMMMMMMMM\n",
      "    MMMMMMMM              MMMMMMMMMMMMMMM              MMMMMMMMM\n",
      "    MMMMMMMM                MMMMMMMMMMM                MMMMMMMMM\n",
      "    MMMMMMMM                 MMMMMMMMM                 MMMMMMMMM\n",
      "    MMMMMMMM                  MMMMMMM                  MMMMMMMMM\n",
      "    MMMMMMMMMMMM               MMMMM                MMMMMMMMMMMM\n",
      "    MMMMMMMMMMMM                MMM                 MMMMMMMMMMMM\n",
      "    MMMMMMMMMMMM                 V                  MMMMMMMMMMMM\n",
      "    MMMMMMMMMMMM                                    MMMMMMMMMMMM\n",
      "    MMMMMMMMMMMM         ^               ^          MMMMMMMMMMMM\n",
      "    MMMMMMMMMMMM         MM             MM          MMMMMMMMMMMM\n",
      "    MMMMMMMMMMMM         MMMM         MMMM          MMMMMMMMMMMM\n",
      "    MMMMMMMMMMMM         MMMMM       MMMMM          MMMMMMMMMMMM\n",
      "    MMMMMMMMMMMM         MMMMMM     MMMMMM          MMMMMMMMMMMM\n",
      "    MMMMMMMM                MMMM   MMMM                MMMMMMMMM\n",
      "    MMMMMMMM                MMMMMVMMMMM                MMMMMMMMM\n",
      "    MMMMMMMM                MMMMMMMMMMM                MMMMMMMMM\n",
      "    MMMMMMMM                MMMMMMMMMMM                MMMMMMMMM\n",
      "    MMMMMMMM                MMMMMMMMMMM                MMMMMMMMM\n",
      "    MMMMMMMMMMMMMMMMMMMMMMMMMMMMMMMMMMMMMMMMMMMMMMMMMMMMMMMMMMMM\n",
      "    MMMMMMMMMMMMMMMMMMMMMMMMMMMMMMMMMMMMMMMMMMMMMMMMMMMMMMMMMMMM\n",
      "    MMMMMMMMMMMMMMMMMMMMMMMMMMMMMMMMMMMMMMMMMMMMMMMMMMMMMMMMMMMM\n",
      "    MMMMMMMMMMMMMMMMMMMMMMMMMMMMMMMMMMMMMMMMMMMMMMMMMMMMMMMMMMMM\n",
      "    MMMMMMMMMMMMMMMMMMMMMMMMMMMMMMMMMMMMMMMMMMMMMMMMMMMMMMMMMMMM\n",
      "    -->\n",
      "\n",
      "    <base href=\"https://umich.edu/\" />\n"
     ]
    }
   ],
   "source": [
    "academics_page = CACHE_DICT[\"https://umich.edu/academics\"]\n",
    "for line in academics_page.split('\\n')[:40]:\n",
    "    print(line)"
   ]
  },
  {
   "cell_type": "code",
   "execution_count": 10,
   "metadata": {},
   "outputs": [
    {
     "data": {
      "text/plain": [
       "['__annotations__',\n",
       " '__call__',\n",
       " '__class__',\n",
       " '__closure__',\n",
       " '__code__',\n",
       " '__defaults__',\n",
       " '__delattr__',\n",
       " '__dict__',\n",
       " '__dir__',\n",
       " '__doc__',\n",
       " '__eq__',\n",
       " '__format__',\n",
       " '__ge__',\n",
       " '__get__',\n",
       " '__getattribute__',\n",
       " '__globals__',\n",
       " '__gt__',\n",
       " '__hash__',\n",
       " '__init__',\n",
       " '__init_subclass__',\n",
       " '__kwdefaults__',\n",
       " '__le__',\n",
       " '__lt__',\n",
       " '__module__',\n",
       " '__name__',\n",
       " '__ne__',\n",
       " '__new__',\n",
       " '__qualname__',\n",
       " '__reduce__',\n",
       " '__reduce_ex__',\n",
       " '__repr__',\n",
       " '__setattr__',\n",
       " '__sizeof__',\n",
       " '__str__',\n",
       " '__subclasshook__']"
      ]
     },
     "execution_count": 10,
     "metadata": {},
     "output_type": "execute_result"
    }
   ],
   "source": [
    "dir(Request_or_Cache)"
   ]
  },
  {
   "cell_type": "code",
   "execution_count": null,
   "metadata": {},
   "outputs": [],
   "source": []
  }
 ],
 "metadata": {
  "kernelspec": {
   "display_name": "Python 3",
   "language": "python",
   "name": "python3"
  },
  "language_info": {
   "codemirror_mode": {
    "name": "ipython",
    "version": 3
   },
   "file_extension": ".py",
   "mimetype": "text/x-python",
   "name": "python",
   "nbconvert_exporter": "python",
   "pygments_lexer": "ipython3",
   "version": "3.7.3"
  }
 },
 "nbformat": 4,
 "nbformat_minor": 2
}
