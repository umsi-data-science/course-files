{
 "cells": [
  {
   "cell_type": "markdown",
   "metadata": {},
   "source": [
    "# Generators, UFO's, and a New Millennium\n",
    "Attached, you will find the file ufo_complete.csv, containing over 80,000 reported UFO sightings formatted similar to the entry in the table below. You are also being given the basic class UFO_Report. \n",
    "\n",
    "Your objectives are to:\n",
    "- Write a generator function that accepts a list of lines and yields a list of fields\n",
    "\n",
    "> Note: The generator function will also assist our efforts in cleaning/filtering our data set: it should only return objects representing entries where City is not blank/empty AND where the incident datetime is year 2000 or later\n",
    "\n",
    "- Make objects from class UFO_Report iterable\n",
    "\n",
    "> Note: Iteration through a UFO_Report object should iterate sequentially over the fields DateTime, City, State, Country, and Comments"
   ]
  },
  {
   "cell_type": "markdown",
   "metadata": {},
   "source": [
    "| DateTime | City | State | Country | Shape | Duration (s) | Duration (hour/min) | Comments | DatePosted | Lat | Long |\n",
    "|----------|------|-------|---------|-------|--------------|---------------------|----------|------------|-----|------|\n",
    "| 10/10/1949 20:30 | San Marco | TX | US | Cylindner | 2700 | 45 minutes | \"This event took place in early fall around 1949-50. It occurred after a Boy Scout meeting in the Baptist Church. The Baptist Church sit\" | 4/27/2004 | 29.8830556 | -97.9411111 |"
   ]
  },
  {
   "cell_type": "markdown",
   "metadata": {},
   "source": [
    "### Part I : Implement the generator function genReport()\n",
    "Reminder: genReport() should yield a list containing each element from a row of data, but only if the row has a populated \"city\" field and a year in DateTime that is equivalent to (or more recent than) the year 2000."
   ]
  },
  {
   "cell_type": "code",
   "execution_count": 10,
   "metadata": {},
   "outputs": [],
   "source": [
    "def genReport():\n",
    "    # Import the file contents\n",
    "    file = open (\"Data_Wk2_ufo_complete.csv\")\n",
    "    content = file.read()\n",
    "    file.close()\n",
    "    \n",
    "    for line in content.split('\\n')[1:]: #Discarding CSV Header\n",
    "        fields = line.split(',')\n",
    "        # Check for city listing\n",
    "        if(fields[1]!=\"\"):\n",
    "            if(int(fields[0].split()[0].split('/')[2]) >= 2000):\n",
    "                yield(fields)"
   ]
  },
  {
   "cell_type": "code",
   "execution_count": 11,
   "metadata": {},
   "outputs": [],
   "source": [
    "generator = genReport()"
   ]
  },
  {
   "cell_type": "code",
   "execution_count": 12,
   "metadata": {},
   "outputs": [
    {
     "data": {
      "text/plain": [
       "['10/10/2000 03:00',\n",
       " 'perryville',\n",
       " 'mo',\n",
       " 'us',\n",
       " 'oval',\n",
       " '180',\n",
       " '3 minutes',\n",
       " '\"The craft was big&#44 orange&#44 and oval shaped.\"',\n",
       " '12/2/2000',\n",
       " '37.7241667',\n",
       " '-89.8611111']"
      ]
     },
     "execution_count": 12,
     "metadata": {},
     "output_type": "execute_result"
    }
   ],
   "source": [
    "next(generator)"
   ]
  },
  {
   "cell_type": "markdown",
   "metadata": {},
   "source": [
    "### Part II: The CaseReport Iterable Class\n",
    "Here we declare a UFO_Report object class that, when iterated on, will cycle through only certain fields of greater interest, in this case, the respective report's DateTime, City, State, Country, and Comments. "
   ]
  },
  {
   "cell_type": "code",
   "execution_count": 16,
   "metadata": {},
   "outputs": [],
   "source": [
    "class UFO_Report():\n",
    "    def __init__(self, field_list):\n",
    "        self.datetime = field_list[0]\n",
    "        self.city = field_list[1]\n",
    "        self.state = field_list[2]\n",
    "        self.country = field_list[3]\n",
    "        self.ufo_shape = field_list[4]\n",
    "        self.duration_seconds = field_list[5]\n",
    "        self.duration_hr_min = field_list[6]\n",
    "        self.comments = field_list[7]\n",
    "        self.date_posted = field_list[8]\n",
    "        self.latitude = field_list[9]\n",
    "        self.longitude = field_list[10]\n",
    "    def __iter__(self):\n",
    "        \"\"\" Tracks positioning and returns self \"\"\"\n",
    "        # redact, leave \"pass\" in published student edition\n",
    "        self.position = 0\n",
    "        return(self)\n",
    "    def __next__(self):\n",
    "        \"\"\" Controls how iteration progresses and returns designated outputs \"\"\"\n",
    "        self.iter_returns = [self.datetime, self.city, self.state, self.country, self.comments]\n",
    "        # redact below, leave \"pass\" in published student edition\n",
    "        self.position += 1\n",
    "        if(self.position==6):\n",
    "            raise(StopIteration)\n",
    "        return(self.iter_returns[self.position-1])"
   ]
  },
  {
   "cell_type": "code",
   "execution_count": 19,
   "metadata": {},
   "outputs": [],
   "source": [
    "one_report = UFO_Report(next(generator))"
   ]
  },
  {
   "cell_type": "code",
   "execution_count": 20,
   "metadata": {},
   "outputs": [
    {
     "name": "stdout",
     "output_type": "stream",
     "text": [
      "10/10/2000 07:30\n",
      "victoria (canada)\n",
      "bc\n",
      "ca\n",
      "\"Smooth Shiny Cylinder\"\n"
     ]
    }
   ],
   "source": [
    "for field in one_report:\n",
    "    print(field)"
   ]
  },
  {
   "cell_type": "markdown",
   "metadata": {},
   "source": [
    "### Part III : Usage Examples\n"
   ]
  },
  {
   "cell_type": "code",
   "execution_count": 69,
   "metadata": {},
   "outputs": [
    {
     "name": "stdout",
     "output_type": "stream",
     "text": [
      "['10/10/2000 03:00', 'perryville', 'mo', 'us', 'oval', '180', '3 minutes', '\"The craft was big&#44 orange&#44 and oval shaped.\"', '12/2/2000', '37.7241667', '-89.8611111']\n",
      "['10/10/2000 03:45', 'carnival cruise ship (paradise) (caribbean)', '', '', 'flash', '1200', '20 mins.', '\"Motionless eratic flashing light.\"', '12/9/2000', '0', '0']\n",
      "['10/10/2000 06:15', 'boynton beach', 'fl', 'us', 'other', '10', '10 seconds', '\"Unusual light formation moving extremely fast across the sky.\"', '12/2/2000', '26.5250000', '-80.0666667']\n",
      "['10/10/2000 07:30', 'victoria (canada)', 'bc', 'ca', 'cylinder', '30', '30seconds', '\"Smooth Shiny Cylinder\"', '12/2/2000', '46.216667', '-63.483333']\n",
      "['10/10/2000 16:00', 'jueanu', 'wi', '', 'triangle', '45', '45 seconds', '\"5 bight light V shaped\"', '12/2/2000', '43.40555', '-88.705104']\n"
     ]
    }
   ],
   "source": [
    "# We create an instance of the generator\n",
    "UFOGen = genReport()\n",
    "\n",
    "# We can pull some value N count of cases at a time for processing\n",
    "Cases = []\n",
    "for _ in range(5):\n",
    "    Cases.append(next(UFOGen))\n",
    "    \n",
    "# We can view full reports\n",
    "for case in Cases:\n",
    "    print(case)"
   ]
  },
  {
   "cell_type": "code",
   "execution_count": 68,
   "metadata": {},
   "outputs": [
    {
     "name": "stdout",
     "output_type": "stream",
     "text": [
      "DateTime: 10/10/2000 03:00\n",
      "City/State/Country: perryville < mo < us\n",
      "Narrative: \"The craft was big&#44 orange&#44 and oval shaped.\"\n",
      "--------------------------------------------------\n",
      "DateTime: 10/10/2000 03:45\n",
      "City/State/Country: carnival cruise ship (paradise) (caribbean) <  < \n",
      "Narrative: \"Motionless eratic flashing light.\"\n",
      "--------------------------------------------------\n",
      "DateTime: 10/10/2000 06:15\n",
      "City/State/Country: boynton beach < fl < us\n",
      "Narrative: \"Unusual light formation moving extremely fast across the sky.\"\n",
      "--------------------------------------------------\n",
      "DateTime: 10/10/2000 07:30\n",
      "City/State/Country: victoria (canada) < bc < ca\n",
      "Narrative: \"Smooth Shiny Cylinder\"\n",
      "--------------------------------------------------\n",
      "DateTime: 10/10/2000 16:00\n",
      "City/State/Country: jueanu < wi < \n",
      "Narrative: \"5 bight light V shaped\"\n",
      "--------------------------------------------------\n"
     ]
    }
   ],
   "source": [
    "# We create an instance of the generator\n",
    "UFOGen = genReport()\n",
    "\n",
    "# We can pull some value N count of cases at a time for processing\n",
    "Cases = []\n",
    "for _ in range(5):\n",
    "    Cases.append(UFO_Report(field_list=next(UFOGen)))\n",
    "    \n",
    "# Our customized iteration enables us to \n",
    "for case in Cases:\n",
    "    caseinfo = iter(case)\n",
    "    print(f\"DateTime: {next(caseinfo)}\")\n",
    "    print(f\"City/State/Country: {next(caseinfo)} < {next(caseinfo)} < {next(caseinfo)}\")\n",
    "    print(f\"Narrative: {next(caseinfo)}\")\n",
    "    print(\"-----\"*10)"
   ]
  },
  {
   "cell_type": "code",
   "execution_count": null,
   "metadata": {},
   "outputs": [],
   "source": []
  }
 ],
 "metadata": {
  "kernelspec": {
   "display_name": "Python 3",
   "language": "python",
   "name": "python3"
  },
  "language_info": {
   "codemirror_mode": {
    "name": "ipython",
    "version": 3
   },
   "file_extension": ".py",
   "mimetype": "text/x-python",
   "name": "python",
   "nbconvert_exporter": "python",
   "pygments_lexer": "ipython3",
   "version": "3.7.3"
  }
 },
 "nbformat": 4,
 "nbformat_minor": 2
}
