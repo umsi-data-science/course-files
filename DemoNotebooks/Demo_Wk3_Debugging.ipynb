{
 "cells": [
  {
   "cell_type": "markdown",
   "metadata": {},
   "source": [
    "# Debugging"
   ]
  },
  {
   "cell_type": "markdown",
   "metadata": {},
   "source": [
    "Struggling with bugs in your code? Here are a few methods to work through them:"
   ]
  },
  {
   "cell_type": "markdown",
   "metadata": {},
   "source": [
    "***\n",
    "## Debugging Tool A: Print Statements\n",
    "Simply printing off certain values can help programmers monitor expression-evaluation and variable contents throughout the processes their code is performing; sometimes this can expose that certain operations are being handled improperly, providing guidance as to what may need fixing.\n",
    "\n",
    "Consider the below code-block; instead of returning a list of hundred-numbers ending in '00' it simply returns a blank list."
   ]
  },
  {
   "cell_type": "code",
   "execution_count": null,
   "metadata": {},
   "outputs": [],
   "source": [
    "def Hundreds():\n",
    "    \"\"\"Returns a list of each hundred number ending in double-zeros\"\"\"\n",
    "    hundreds = []\n",
    "    for num in range(9):\n",
    "        product = num*100\n",
    "    return(hundreds)\n",
    "Hundreds()"
   ]
  },
  {
   "cell_type": "markdown",
   "metadata": {},
   "source": [
    "Let's try printing off the list each iteration, so we can see if items are being added:"
   ]
  },
  {
   "cell_type": "code",
   "execution_count": null,
   "metadata": {},
   "outputs": [],
   "source": [
    "def Hundreds():\n",
    "    hundreds = []\n",
    "    for num in range(9):\n",
    "        product = num*100\n",
    "        print(hundreds)\n",
    "    return(hundreds)\n",
    "Hundreds() "
   ]
  },
  {
   "cell_type": "code",
   "execution_count": null,
   "metadata": {},
   "outputs": [],
   "source": [
    "# Some developers also like to add an optional Debug parameter in the function call\n",
    "# This enables multiple print statements intended for debugging to be toggled simultaneously\n",
    "def Hundreds(debug=True):\n",
    "    hundreds = []\n",
    "    for num in range(9):\n",
    "        product = num*100\n",
    "        # Toggle-able print statements can be su\n",
    "        if(debug): print(\"Adding to list: \"+str(product)+\"\\tList is now: \"+str(hundreds))\n",
    "    return(hundreds)\n",
    "Hundreds(debug=1) "
   ]
  },
  {
   "cell_type": "markdown",
   "metadata": {},
   "source": [
    "## Debugging Tool B: Assert Statements\n",
    "An assert statement is one that takes an expression that ultimately evalutes to either True of False and, should the expression evaluate to False, it will crash the program with an error message specifying something has failed at that line.\n",
    "\n",
    "Assert statements consist of three main components:\n",
    "> example: assert(len(WordsList)>=10), \"Length of WordsList is less than 10\"\n",
    "\n",
    "- Calling assert()\n",
    "- An expression passed into the assert statement, which ultimately evaluates to True or False\n",
    "- Optional Component: a string to display in the error raised should the assertion not pass"
   ]
  },
  {
   "cell_type": "code",
   "execution_count": null,
   "metadata": {},
   "outputs": [],
   "source": [
    "# Setup\n",
    "WordList = [\"Avocado\",\"Pineapple\",\"Water\",\"Laptop\"]\n",
    "\n",
    "assert(True)\n",
    "assert('x')\n",
    "assert(\"Avocado\" in WordList)\n",
    "assert(len(WordList)>=3)\n",
    "for word in WordList: assert(type(word)==str)\n",
    "\n",
    "assert(), \"Something isn't working properly!\"\n",
    "# Examples that fail (Toggle to execute)\n",
    "if(False):\n",
    "    # More theoretical assertion failures\n",
    "    assert()\n",
    "    assert(0)\n",
    "    assert(None)\n",
    "    assert(False)\n",
    "    \n",
    "    # More useful assertino failures\n",
    "    assert(\"Burrito\" in WordList)\n",
    "    x=\"\"\n",
    "    assert(x != None)"
   ]
  },
  {
   "cell_type": "markdown",
   "metadata": {},
   "source": [
    "***\n",
    "## Debugging Tool C: UnitTesting\n",
    "The value of assert statements sometimes becomes more apparent when incorporated into part of one's unit-testing framework. Python provides a library to help with builiding out tests through the unittest library:"
   ]
  },
  {
   "cell_type": "code",
   "execution_count": null,
   "metadata": {},
   "outputs": [],
   "source": [
    "import unittest"
   ]
  },
  {
   "cell_type": "markdown",
   "metadata": {},
   "source": [
    "Below we have a class modeling some basic Customer records. Objects of this class type have some setter-and-getter functions for various attributes. While class variables are directly accessible in Python, adopting getter/setter functions can be used to enforce certain behaviors (such as a setBalance function that checks to ensure a value is non-negative and the correct datatype before setting).\n",
    "\n",
    "Take a moment to read the below codeblock, paying attention to the expected behavior indicated in the comments. Up next comes a demonstration of how we can automate testing to ensure these behaviors."
   ]
  },
  {
   "cell_type": "code",
   "execution_count": null,
   "metadata": {},
   "outputs": [],
   "source": [
    "class Customer:\n",
    "    def __init__(self, name, yrs_loyalty=0, account_balance=0.00):\n",
    "        self.name= name.lower()\n",
    "        self.years_loyalty= yrs_loyalty\n",
    "        self.acct_balance = account_balance\n",
    "\n",
    "    def getName(self):\n",
    "        \"\"\" Returns the customer's first and last name as a list. \"\"\"\n",
    "        return(self.name)\n",
    "    def setName(self, new_name):\n",
    "        \"\"\" Sets customer full name.\n",
    "        Parameter new_name should be longer than 4 characters and follow format: \"first last\".\n",
    "        If new_name is only a singular name, do not change the original value.\n",
    "        Customer.name must be stored in lower-case \"\"\"\n",
    "        self.name=new_name\n",
    "        \n",
    "    def getBalance(self):\n",
    "        \"\"\" Returns the customer's account balance as a float with no more than 2 decimal places \"\"\"\n",
    "        return(self.acct_balance)  \n",
    "    def setBalance(self,new_balance,override=False):\n",
    "        \"\"\" Sets customer balance to non-negative float with up to two decimal points\n",
    "        Positive Balance indicates money owed by the customer, but in special circumstances where negative\n",
    "        balance is required, the override parameter must be set to True. \"\"\"\n",
    "        self.acct_balance=new_balance\n",
    "    \n",
    "    def getLoyalty(self):\n",
    "        \"\"\" Returns the integer value expression of years since customer registration \"\"\"\n",
    "        return(self.years_loyalty)\n",
    "    def setLoyalty(self, new_years):\n",
    "        \"\"\" Sets customer years of loyalty to new, positive integer value\n",
    "        The company is 5 years old; any new_years value > 5 should set to 5.\"\"\"\n",
    "        self.years_loyalty = new_years"
   ]
  },
  {
   "cell_type": "markdown",
   "metadata": {},
   "source": [
    "To begin testing our methods' implementation, we declare a new class that inherits from the unittest library's TestCase object class and then add our intended test cases as methods for the testing class.\n",
    "\n",
    "For example, let's begin testing our name-oriented functions:"
   ]
  },
  {
   "cell_type": "code",
   "execution_count": null,
   "metadata": {},
   "outputs": [],
   "source": [
    "class TestingNameFunctions(unittest.TestCase):\n",
    "    def testGetName(self):\n",
    "        # Unit-tests oftentimes involve some setup before the actual testing.\n",
    "        John_Smith = Customer(name=\"John Smith\", yrs_loyalty=2, account_balance=32.50)\n",
    "        Kevin_Wang = Customer(name=\"Kevin Wang\", yrs_loyalty=0, account_balance=0.00)\n",
    "        JS = John_Smith.getName()\n",
    "        KW = Kevin_Wang.getName()\n",
    "        \n",
    "        # If these assertions all pass, the test is considered passing\n",
    "        assert(JS == \"john smith\")\n",
    "        assert(KW == \"kevin wang\")\n",
    "        assert(type(JS) == str and type(KW) == str)\n",
    "    \n",
    "    def testSetName(self):\n",
    "        John = Customer(name=\"John Smith\", yrs_loyalty=2, account_balance=32.50)\n",
    "        John.setName(new_name=\"John King\")\n",
    "        assert(John.name==\"john king\"), f\"Expected Value: 'john king'.\\tActual Value: '{John.name}'\""
   ]
  },
  {
   "cell_type": "markdown",
   "metadata": {},
   "source": [
    "The below cell runs our test cases, each returning with one of three results: Pass('ok'), Fail, and Error.\n",
    "- Line 1: \"If we are running this file directly\" // ensures unit tests are not executed should the file be used as a library\n",
    "- Line 2: Traditionally, unittest.main() is used. Because of how Jupyter notebooks work, however, we use something slightly different. That said, be aware that you will often see just unittest.main() used in more traditional .py files.\n",
    "- Line 3: The modifications that make this line work are the parameters for argv and exit\n",
    "- verbosity=2 : optional but displays more detailed output."
   ]
  },
  {
   "cell_type": "code",
   "execution_count": null,
   "metadata": {},
   "outputs": [],
   "source": [
    "if __name__ == '__main__':\n",
    "    #unittest.main()\n",
    "    unittest.main(argv=['first-arg-is-ignored'], verbosity=2, exit=False)"
   ]
  },
  {
   "cell_type": "markdown",
   "metadata": {},
   "source": [
    "## Your Turn\n",
    "Now we've demonstrated how to build tests for the unittest framework, take some time to write some tests for the remaining methods. Consider the specifications from cell inwhich we initially defined our Customer class."
   ]
  },
  {
   "cell_type": "code",
   "execution_count": null,
   "metadata": {},
   "outputs": [],
   "source": [
    "class TestingBalanceFunctions(unittest.TestCase):\n",
    "    def testGetBalance(self):\n",
    "        pass\n",
    "    def testSetBalance(self):\n",
    "        pass\n",
    "    \n",
    "class TestingLoyaltyFunctions(unittest.TestCase):\n",
    "    def testGetLoyalty(self):\n",
    "        pass\n",
    "    def testSetLoyalty(self):\n",
    "        pass\n",
    "\n",
    "if __name__ == '__main__':\n",
    "    unittest.main(argv=['first-arg-is-ignored'], verbosity=2, exit=False)"
   ]
  },
  {
   "cell_type": "markdown",
   "metadata": {},
   "source": [
    "## Also Worth Mentioning: \"Test-Driven Development\"\n",
    "Now that you are familiar with testing, it is worth also knowing that some programmers prefer to use a workflow known as Test-Driven Development. Rather than testing code after it is written, the process of test-driven development is:\n",
    "- Consider the specifications and requirements given\n",
    "- Build test cases that ensure target the requirements would be met\n",
    "- Implementing the functions to pass the already-written test cases"
   ]
  },
  {
   "cell_type": "markdown",
   "metadata": {},
   "source": [
    "***"
   ]
  },
  {
   "cell_type": "markdown",
   "metadata": {},
   "source": [
    "## Debugging Tool D: IPython.core.debugger.set_trace()\n",
    "If you feel you have reached your wit's end and exhausted your other options, it could be worth opening up a software debugger.\n",
    "\n",
    "In Jupyter, you can access one such debugger by importing:"
   ]
  },
  {
   "cell_type": "code",
   "execution_count": null,
   "metadata": {},
   "outputs": [],
   "source": [
    "from IPython.core.debugger import set_trace"
   ]
  },
  {
   "cell_type": "markdown",
   "metadata": {},
   "source": [
    "Placing \"set_trace()\" in your code will pause the program and open the debugger console.\n",
    "- 'c' // 'continue': continues execution until the next instance of set_trace()\n",
    "- 'n' // 'next': continues execution until the next line\n",
    "- 'q' // 'quit': quits the debugger\n",
    "- 'h' // 'help': displays help information, including a command list.\n",
    "- Entering a variable identifier displays the value of the variable, enabling us to watch values change over time as our code executes live.\n",
    "\n",
    "Working with debuggers can seem intimidating, however take a moment to play with a simple example below, considering how this can be useful when debugging more complicated code."
   ]
  },
  {
   "cell_type": "code",
   "execution_count": null,
   "metadata": {},
   "outputs": [],
   "source": [
    "# Standard version, no tracers\n",
    "def ThrowNumbers():\n",
    "    return([0,1,2,3,4,5])\n",
    "def ThrowLetters():\n",
    "    return(['A','B','C','D','E','F'])\n",
    "\n",
    "for num in ThrowNumbers():\n",
    "    line = \"\"\n",
    "    for letter in ThrowLetters():\n",
    "        line+=(str(num)+letter+\" \")\n",
    "    print(line)"
   ]
  },
  {
   "cell_type": "markdown",
   "metadata": {},
   "source": [
    "In the below version, we've added a trace. When you run the cell, you should see the debugger console. Take some time to iterate through the code with (c)ontinue and (n)ext, printing off variables such as line, num, and letter. "
   ]
  },
  {
   "cell_type": "code",
   "execution_count": null,
   "metadata": {},
   "outputs": [
    {
     "name": "stdout",
     "output_type": "stream",
     "text": [
      "> \u001b[0;32m<ipython-input-3-2a18b069deea>\u001b[0m(11)\u001b[0;36m<module>\u001b[0;34m()\u001b[0m\n",
      "\u001b[0;32m      7 \u001b[0;31m    \u001b[0mline\u001b[0m \u001b[0;34m=\u001b[0m \u001b[0;34m\"\"\u001b[0m\u001b[0;34m\u001b[0m\u001b[0;34m\u001b[0m\u001b[0m\n",
      "\u001b[0m\u001b[0;32m      8 \u001b[0;31m    \u001b[0;32mfor\u001b[0m \u001b[0mletter\u001b[0m \u001b[0;32min\u001b[0m \u001b[0mThrowLetters\u001b[0m\u001b[0;34m(\u001b[0m\u001b[0;34m)\u001b[0m\u001b[0;34m:\u001b[0m\u001b[0;34m\u001b[0m\u001b[0;34m\u001b[0m\u001b[0m\n",
      "\u001b[0m\u001b[0;32m      9 \u001b[0;31m        \u001b[0mline\u001b[0m\u001b[0;34m+=\u001b[0m\u001b[0;34m(\u001b[0m\u001b[0mstr\u001b[0m\u001b[0;34m(\u001b[0m\u001b[0mnum\u001b[0m\u001b[0;34m)\u001b[0m\u001b[0;34m+\u001b[0m\u001b[0mletter\u001b[0m\u001b[0;34m+\u001b[0m\u001b[0;34m\" \"\u001b[0m\u001b[0;34m)\u001b[0m\u001b[0;34m\u001b[0m\u001b[0;34m\u001b[0m\u001b[0m\n",
      "\u001b[0m\u001b[0;32m     10 \u001b[0;31m    \u001b[0mset_trace\u001b[0m\u001b[0;34m(\u001b[0m\u001b[0;34m)\u001b[0m\u001b[0;34m\u001b[0m\u001b[0;34m\u001b[0m\u001b[0m\n",
      "\u001b[0m\u001b[0;32m---> 11 \u001b[0;31m    \u001b[0mprint\u001b[0m\u001b[0;34m(\u001b[0m\u001b[0mline\u001b[0m\u001b[0;34m)\u001b[0m\u001b[0;34m\u001b[0m\u001b[0;34m\u001b[0m\u001b[0m\n",
      "\u001b[0m\n",
      "ipdb> b\n",
      "ipdb> b\n",
      "ipdb> b 7\n",
      "Breakpoint 1 at <ipython-input-3-2a18b069deea>:7\n",
      "ipdb> b\n",
      "Num Type         Disp Enb   Where\n",
      "1   breakpoint   keep yes   at <ipython-input-3-2a18b069deea>:7\n"
     ]
    }
   ],
   "source": [
    "def ThrowNumbers():\n",
    "    return([0,1,2,3,4,5])\n",
    "def ThrowLetters():\n",
    "    return(['A','B','C','D','E','F'])\n",
    "\n",
    "for num in ThrowNumbers():\n",
    "    line = \"\"\n",
    "    for letter in ThrowLetters():\n",
    "        line+=(str(num)+letter+\" \")\n",
    "    set_trace()\n",
    "    print(line)"
   ]
  },
  {
   "cell_type": "code",
   "execution_count": null,
   "metadata": {},
   "outputs": [],
   "source": []
  }
 ],
 "metadata": {
  "kernelspec": {
   "display_name": "Python 3",
   "language": "python",
   "name": "python3"
  },
  "language_info": {
   "codemirror_mode": {
    "name": "ipython",
    "version": 3
   },
   "file_extension": ".py",
   "mimetype": "text/x-python",
   "name": "python",
   "nbconvert_exporter": "python",
   "pygments_lexer": "ipython3",
   "version": "3.7.3"
  }
 },
 "nbformat": 4,
 "nbformat_minor": 2
}
