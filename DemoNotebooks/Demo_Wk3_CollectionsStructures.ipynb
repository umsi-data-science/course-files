{
 "cells": [
  {
   "cell_type": "markdown",
   "metadata": {},
   "source": [
    "# Introducing: Collections DataTypes\n",
    "Collections:\n",
    "- Chain-Map\n",
    "- Counter\n",
    "- Deque\n",
    "- Default-Dict\n",
    "- Ordered-Dict\n",
    "- Named Tuple"
   ]
  },
  {
   "cell_type": "code",
   "execution_count": 1,
   "metadata": {},
   "outputs": [],
   "source": [
    "import collections\n",
    "from timeit import timeit\n",
    "## timeit(\"fib(n=8)\",\"from __main__ import fib\")"
   ]
  },
  {
   "cell_type": "markdown",
   "metadata": {},
   "source": [
    "### ChainMap\n",
    "When your approach to solving a problem includes multiple layers of dictionary mappings, the ChainMap object type enables us to conveniently store dictionaries in what is effectively a prioritized list."
   ]
  },
  {
   "cell_type": "code",
   "execution_count": 38,
   "metadata": {},
   "outputs": [
    {
     "name": "stdout",
     "output_type": "stream",
     "text": [
      "ChainMap({'a': 1, 'b': 2, 'c': 3}, {'c': 5, 'd': 6, 'e': 7})\n",
      "{'a': 1, 'b': 2, 'c': 3}\n",
      "C is:  3\n",
      "C is now:  7\n"
     ]
    }
   ],
   "source": [
    "print(map_chain)\n",
    "print(map_chain.maps[0])\n",
    "print(\"C is: \",map_chain['c']) # There are two 'c' keys in the chainmap; notice which is given priority\n",
    "# stored mappings remain mutable\n",
    "map_chain.maps[0]['c']= 7\n",
    "print(\"C is now: \",map_chain['c'])"
   ]
  },
  {
   "cell_type": "code",
   "execution_count": 40,
   "metadata": {},
   "outputs": [
    {
     "name": "stdout",
     "output_type": "stream",
     "text": [
      "ChainMap({'f': 8, 'g': 9, 'c': 10}, {'a': 1, 'b': 2, 'c': 7}, {'c': 5, 'd': 6, 'e': 7})\n",
      "10\n"
     ]
    }
   ],
   "source": [
    "# We can use mapchain.new_child(dict) to insert a new dictionary at the beginning,\n",
    "# giving it priority to override pre-existing maps.\n",
    "# This enables us to extend well upon def\n",
    "extended_chain = map_chain.new_child({'f':8,'g':9,'c':10})\n",
    "print(extended_chain)\n",
    "print(extended_chain['c'])"
   ]
  },
  {
   "cell_type": "markdown",
   "metadata": {},
   "source": [
    "## Counter\n",
    "Collections.Counter() provides a convenient and easy way to perform counts"
   ]
  },
  {
   "cell_type": "code",
   "execution_count": 3,
   "metadata": {},
   "outputs": [
    {
     "name": "stdout",
     "output_type": "stream",
     "text": [
      "Counter({'E': 7, 'F': 7, ' ': 3, 'A': 1, 'B': 1, 'C': 1, 'D': 1, 'G': 1, 'H': 1, 'I': 1, 'J': 1})\n"
     ]
    }
   ],
   "source": [
    "count_obj = collections.Counter(\"ABCDEFEFEFG H EFEF IJEFEF\")\n",
    "print(count_obj)"
   ]
  },
  {
   "cell_type": "code",
   "execution_count": 4,
   "metadata": {},
   "outputs": [
    {
     "data": {
      "text/plain": [
       "0"
      ]
     },
     "execution_count": 4,
     "metadata": {},
     "output_type": "execute_result"
    }
   ],
   "source": [
    "count_obj['R'] # Note how this does not throw a key-error"
   ]
  },
  {
   "cell_type": "code",
   "execution_count": 13,
   "metadata": {},
   "outputs": [
    {
     "name": "stdout",
     "output_type": "stream",
     "text": [
      "Counter({'y': 12, 'r': 8, 'w': 7, 'q': 3, 'e': 2})\n",
      "Counter({'y': 12, 'r': 8, 'w': 7, 'q': 3, 'e': 2, 'z': 2, 'J': 1, 'a': 1})\n",
      "Counter({'y': 12, 'r': 9, 'w': 7, 'e': 4, 'a': 4, 'q': 3, 'z': 2, ' ': 2, 'c': 2, 'J': 1, 'g': 1, 'n': 1, 'd': 1, 'f': 1, 'm': 1, 'o': 1, 'h': 1})\n"
     ]
    }
   ],
   "source": [
    "# Use Counter.update() to additionally include counts derived\n",
    "count_obj2 = collections.Counter({'q':3,'w':7,'e':2,'r':8,'y':12})\n",
    "print(count_obj2)\n",
    "count_obj2.update(\"Jazz\")\n",
    "print(count_obj2)\n",
    "count_obj2.update(\"grande cafe mocha\")\n",
    "print(count_obj2)"
   ]
  },
  {
   "cell_type": "code",
   "execution_count": 18,
   "metadata": {},
   "outputs": [
    {
     "name": "stdout",
     "output_type": "stream",
     "text": [
      "[('E', 7), ('F', 7), (' ', 3), ('A', 1), ('B', 1), ('C', 1), ('D', 1), ('G', 1), ('H', 1), ('I', 1), ('J', 1)]\n"
     ]
    }
   ],
   "source": [
    "# CounterObject.most_common() is particularly useful\n",
    "# You can also use CounterObject.keys(), .values(), and .items()\n",
    "print(count_obj.most_common())"
   ]
  },
  {
   "cell_type": "code",
   "execution_count": 19,
   "metadata": {},
   "outputs": [
    {
     "name": "stdout",
     "output_type": "stream",
     "text": [
      "Counter({False: 5, True: 4})\n"
     ]
    }
   ],
   "source": [
    "bool_count = collections.Counter()\n",
    "survey_data = [True, False, False, False, True, True, False, True, False]\n",
    "for i in survey_data:\n",
    "    bool_count[i]+=1\n",
    "print(bool_count)"
   ]
  },
  {
   "cell_type": "markdown",
   "metadata": {},
   "source": [
    "## Deque\n",
    "\n",
    "Deque is short for \"Double-Ended Queue.\" \n",
    "\n",
    "If one finds themselves using a list where elements frequently are added/removed from both ends of the list, a deque could be a good candidate, as deques afford the ability to quickly add/remove elements from both sides.\n",
    "\n",
    "Deque methods: .pop(), .popleft(), .append(), .appendleft() run in O(1), or constant time.\n",
    "\n",
    "The benefit of deque over list often revolves around deque.popleft() outperforming list.insert(0,object)\n",
    "\n",
    "Warning: Deques support indexing, but not index-slicing."
   ]
  },
  {
   "cell_type": "markdown",
   "metadata": {},
   "source": [
    "#### Basic Use"
   ]
  },
  {
   "cell_type": "code",
   "execution_count": 6,
   "metadata": {},
   "outputs": [
    {
     "name": "stdout",
     "output_type": "stream",
     "text": [
      "deque(['Customer_A', 'Customer_B', 'Customer_C', 'Customer_D', 'Customer_E'])\n"
     ]
    }
   ],
   "source": [
    "CustomerDeque = collections.deque([\"Customer_A\",\"Customer_B\",\"Customer_C\",\"Customer_D\",\"Customer_E\"])\n",
    "print(CustomerDeque)"
   ]
  },
  {
   "cell_type": "code",
   "execution_count": 7,
   "metadata": {},
   "outputs": [
    {
     "name": "stdout",
     "output_type": "stream",
     "text": [
      "deque(['VIP_Customer', 'Customer_A', 'Customer_B', 'Customer_C', 'Customer_D', 'Customer_E', 'Customer_F'])\n"
     ]
    }
   ],
   "source": [
    "CustomerDeque.append('Customer_F')\n",
    "CustomerDeque.appendleft(\"VIP_Customer\")\n",
    "print(CustomerDeque)"
   ]
  },
  {
   "cell_type": "code",
   "execution_count": 76,
   "metadata": {},
   "outputs": [
    {
     "name": "stdout",
     "output_type": "stream",
     "text": [
      "deque(['Customer_A', 'Customer_B', 'Customer_C', 'Customer_D', 'Customer_E'])\n"
     ]
    }
   ],
   "source": [
    "CustomerDeque.pop()\n",
    "CustomerDeque.popleft()\n",
    "print(CustomerDeque)"
   ]
  },
  {
   "cell_type": "code",
   "execution_count": 81,
   "metadata": {},
   "outputs": [
    {
     "name": "stdout",
     "output_type": "stream",
     "text": [
      "deque(['Customer_A', 'Customer_B', 'Customer_C', 'Customer_D', 'Customer_E'])\n",
      "deque(['Customer_D', 'Customer_E', 'Customer_A', 'Customer_B', 'Customer_C'])\n",
      "deque(['Customer_E', 'Customer_A', 'Customer_B', 'Customer_C', 'Customer_D'])\n"
     ]
    }
   ],
   "source": [
    "# Use Deque.rotate(n) to shift elements\n",
    "#     if(n positive)   => rotate to right\n",
    "#     elif(n negative) => rotate to left\n",
    "CustomerDeque = collections.deque([\"Customer_A\",\"Customer_B\",\"Customer_C\",\"Customer_D\",\"Customer_E\"])\n",
    "print(CustomerDeque)\n",
    "CustomerDeque.rotate(2)\n",
    "print(CustomerDeque)\n",
    "CustomerDeque.rotate(-1)\n",
    "print(CustomerDeque)"
   ]
  },
  {
   "cell_type": "markdown",
   "metadata": {},
   "source": [
    "#### Benchmarking"
   ]
  },
  {
   "cell_type": "code",
   "execution_count": 97,
   "metadata": {},
   "outputs": [
    {
     "name": "stdout",
     "output_type": "stream",
     "text": [
      "5000 5000\n"
     ]
    }
   ],
   "source": [
    "# N = 100 for both structures\n",
    "CustomerList = [\"Customer-#\"+str(x+1) for x in range(5000)]\n",
    "CustomerDeque = collections.deque(CustomerList)\n",
    "print(len(CustomerList),len(CustomerDeque))"
   ]
  },
  {
   "cell_type": "code",
   "execution_count": 98,
   "metadata": {},
   "outputs": [
    {
     "name": "stdout",
     "output_type": "stream",
     "text": [
      "CPU times: user 10 µs, sys: 0 ns, total: 10 µs\n",
      "Wall time: 14.1 µs\n"
     ]
    }
   ],
   "source": [
    "%%time\n",
    "# note -- %% timeit gives cell-execution time\n",
    "CustomerList.insert(0,\"VIP_Customer\")"
   ]
  },
  {
   "cell_type": "code",
   "execution_count": 99,
   "metadata": {},
   "outputs": [
    {
     "name": "stdout",
     "output_type": "stream",
     "text": [
      "CPU times: user 4 µs, sys: 1 µs, total: 5 µs\n",
      "Wall time: 7.87 µs\n"
     ]
    }
   ],
   "source": [
    "%%time\n",
    "# note -- %% timeit gives cell-execution time\n",
    "CustomerDeque.appendleft(\"VIP_Customer\")"
   ]
  },
  {
   "cell_type": "markdown",
   "metadata": {},
   "source": [
    "## \"Default\" Dictionaries\n",
    "Collections.DefaultDict is, ironically, not the default dictionary implementation for Python, but rather a dictionary that more gracefully processes what would otherwise generate key-errors by using default values.\n",
    "\n",
    "Perhaps the easiest way to demonstrate this is to consider the first iteration through the for loop below, focusing especially on the line:\n",
    "> medals_won\\[medal\\]+=1 \n",
    "\n",
    "- During the first iteration, medal=='gold' and the instruction is to positively-increment the value of medals_won\\['gold'\\]. \n",
    "- Problem: medals_won\\['gold'\\] is not yet initialized\n",
    "- The default dictionary automatically creates the key-value pair \"gold\":default, which, for integers, is 0.\n",
    "- The value then increments and the loop continues similarly."
   ]
  },
  {
   "cell_type": "code",
   "execution_count": 80,
   "metadata": {},
   "outputs": [
    {
     "name": "stdout",
     "output_type": "stream",
     "text": [
      "defaultdict(<class 'int'>, {'gold': 2, 'bronze': 3, 'silver': 1, 'none': 2})\n"
     ]
    }
   ],
   "source": [
    "# format: var_identifier = collections.defaultdict(optional_datatype_of_values)\n",
    "medals_won = collections.defaultdict(int)\n",
    "for medal in ['gold','bronze','silver','none','bronze','gold','bronze', 'none']:\n",
    "    medals_won[medal]+=1\n",
    "\n",
    "print(medals_won)"
   ]
  },
  {
   "cell_type": "code",
   "execution_count": 87,
   "metadata": {},
   "outputs": [
    {
     "name": "stdout",
     "output_type": "stream",
     "text": [
      "University of Michigan ('Maize', 'Blue')\n",
      "Michigan State University ('Green', 'White')\n",
      "New York University ('Scarlet', 'Gray')\n",
      "Ohio State University ('Purple', 'White')\n",
      "University of California - San Diego ('Navy Blue', 'Gold')\n",
      "\n",
      "================================================================================\n",
      "University of Michigan\t[('Maize', 'Blue')]\n",
      "Michigan State University\t[('Green', 'White')]\n",
      "New York University\t[('Scarlet', 'Gray')]\n",
      "Ohio State University\t[('Purple', 'White')]\n",
      "University of California - San Diego\t[('Navy Blue', 'Gold')]\n"
     ]
    }
   ],
   "source": [
    "# Example with defaultdict(tuple)\n",
    "schools = [\"University of Michigan\",\"Michigan State University\", \"New York University\",\n",
    "           \"Ohio State University\", \"University of California - San Diego\"]\n",
    "colors = [(\"Maize\",\"Blue\"),(\"Green\",\"White\"),(\"Scarlet\",\"Gray\"),(\"Purple\",\"White\"),(\"Navy Blue\",\"Gold\")]\n",
    "\n",
    "collegiate_colors = collections.defaultdict(tuple)\n",
    "for a,b in zip(schools, colors):\n",
    "    print(a,b)\n",
    "    collegiate_colors[a]=[b]\n",
    "\n",
    "print(\"\\n\"+\"=\"*80)\n",
    "for college in collegiate_colors:\n",
    "    print(str(college)+'\\t'+str(collegiate_colors[college]))"
   ]
  },
  {
   "cell_type": "markdown",
   "metadata": {},
   "source": [
    "#### Also Worth Noting\n",
    "- Note that defaultdict(lambda) can be used to establish default values\n",
    "- Note how, in the for-loop through the players, even though the expression is simply to invoke the key-value pair without any dictionary-modification operations, that expression alone is sufficient to esablish those key-value pairs in a default-dict."
   ]
  },
  {
   "cell_type": "code",
   "execution_count": 89,
   "metadata": {},
   "outputs": [
    {
     "name": "stdout",
     "output_type": "stream",
     "text": [
      "defaultdict(<function <lambda> at 0x10ed05840>, {'Jessie': 500, 'Jaehee': 500, 'Jabari': 500, 'John': 500})\n"
     ]
    }
   ],
   "source": [
    "# Example with defaultdict(lambda) \n",
    "Player_HealthPoints = collections.defaultdict(lambda:500)\n",
    "players = [\"Jessie\",\"Jaehee\",\"Jabari\",\"John\"]\n",
    "\n",
    "# Note\n",
    "for player in players:\n",
    "    Player_HealthPoints[player]\n",
    "print(Player_HealthPoints)"
   ]
  },
  {
   "cell_type": "markdown",
   "metadata": {},
   "source": [
    "## Ordered Dictionaries\n",
    "With Python 3.6+, dictionaries retain/remember the order of element insertion, however in prior versions, the standard built-in dictionary would not retain insertion-order information; when printing the dictionary or iterating through, the order of elements would occur in seemingly-random order. \n",
    "\n",
    "In case you find yourself working in an earlier version of Python, it is worth knowing that ordered-dictionaries are generally available as part of the Collections library."
   ]
  },
  {
   "cell_type": "code",
   "execution_count": 125,
   "metadata": {},
   "outputs": [],
   "source": [
    "ordered = collections.OrderedDict({'a':1,'b':3,'c':5,'d':7,'e':9})"
   ]
  },
  {
   "cell_type": "code",
   "execution_count": 131,
   "metadata": {},
   "outputs": [
    {
     "name": "stdout",
     "output_type": "stream",
     "text": [
      "a 1\n",
      "b 3\n",
      "c 5\n",
      "d 7\n",
      "e 9\n"
     ]
    }
   ],
   "source": [
    "for i in ordered.keys():\n",
    "    print(i, ordered[i])"
   ]
  },
  {
   "cell_type": "markdown",
   "metadata": {},
   "source": [
    "## Named Tuples\n",
    "Our final Collections data type to explore, Named Tuples, are effectively a more self-documenting form of tuple."
   ]
  },
  {
   "cell_type": "code",
   "execution_count": 144,
   "metadata": {},
   "outputs": [],
   "source": [
    "# First, we establish what we will name our tuple, in this case, Employee_Data\n",
    "# Second, we pass in a list of fields that each instance of the named-tuple should have\n",
    "Employee = collections.namedtuple('Employee_Data',['name','department','role','supervisor'])"
   ]
  },
  {
   "cell_type": "code",
   "execution_count": 147,
   "metadata": {},
   "outputs": [],
   "source": [
    "# Once established, we can create new instances of our named-tuple type with this syntax\n",
    "# Using named parameters (\"name=\"//\"department=\"//etc.) is not required, but is good practice\n",
    "josh = Employee(name=\"Joshua\", department=\"Engineering\", role=\"Naval Architect\", supervisor=\"Karen\")"
   ]
  },
  {
   "cell_type": "code",
   "execution_count": 148,
   "metadata": {},
   "outputs": [
    {
     "name": "stdout",
     "output_type": "stream",
     "text": [
      "Employee_Data(name='Joshua', department='Engineering', role='Naval Architect', supervisor='Karen')\n"
     ]
    }
   ],
   "source": [
    "print(josh)"
   ]
  },
  {
   "cell_type": "code",
   "execution_count": 161,
   "metadata": {},
   "outputs": [
    {
     "name": "stdout",
     "output_type": "stream",
     "text": [
      "Joshua | Engineering | Naval Architect | Karen\n",
      "Joshua | Engineering | Naval Architect | Karen\n"
     ]
    }
   ],
   "source": [
    "# Accessing by index, as one would with a traditional tuple\n",
    "print(josh[0],\"|\",josh[1],\"|\",josh[2],\"|\", josh[3])\n",
    "# Accessing by field-name, where the namedtuple acts more like a class with attributes than a tuple \n",
    "print(josh.name,\"|\", josh.department,\"|\", josh.role,\"|\", josh.supervisor)"
   ]
  },
  {
   "cell_type": "code",
   "execution_count": null,
   "metadata": {},
   "outputs": [],
   "source": []
  }
 ],
 "metadata": {
  "kernelspec": {
   "display_name": "Python 3",
   "language": "python",
   "name": "python3"
  },
  "language_info": {
   "codemirror_mode": {
    "name": "ipython",
    "version": 3
   },
   "file_extension": ".py",
   "mimetype": "text/x-python",
   "name": "python",
   "nbconvert_exporter": "python",
   "pygments_lexer": "ipython3",
   "version": "3.7.3"
  }
 },
 "nbformat": 4,
 "nbformat_minor": 2
}
