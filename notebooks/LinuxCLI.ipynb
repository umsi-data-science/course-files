{
 "cells": [
  {
   "cell_type": "markdown",
   "metadata": {
    "slideshow": {
     "slide_type": "slide"
    }
   },
   "source": [
    "# SIADS 515: Introduction to the Linux Command Line Interface (CLI)"
   ]
  },
  {
   "cell_type": "markdown",
   "metadata": {
    "slideshow": {
     "slide_type": "slide"
    }
   },
   "source": [
    "# Overview\n",
    "\n",
    "* why use the Linux CLI? (why not python?)\n",
    "* a case study\n",
    "* filesystem basics (cd, pwd, ls)\n",
    "* viewing & editing files (cat, more, less, head, tail, nano)\n",
    "* sorting & filtering (sort, uniq, cut, grep)\n",
    "* processes (ps, kill, top)\n",
    "* other tips (clear, ^A, ^E, tab-completion)\n"
   ]
  },
  {
   "cell_type": "markdown",
   "metadata": {
    "slideshow": {
     "slide_type": "slide"
    }
   },
   "source": [
    "# Why not python?\n",
    "\n",
    "* sometimes, python is not the best choice for data processing\n",
    "* not great for \"quick and dirty\"\n",
    "* can often use one line of linux commands in lieu of 10 lines of python"
   ]
  },
  {
   "cell_type": "markdown",
   "metadata": {
    "slideshow": {
     "slide_type": "slide"
    }
   },
   "source": [
    "# Case study: Wearable device data"
   ]
  },
  {
   "cell_type": "code",
   "execution_count": 2,
   "metadata": {},
   "outputs": [
    {
     "data": {
      "image/jpeg": "[encoded data removed]",
      "text/html": [
       "\n",
       "        <iframe\n",
       "            width=\"400\"\n",
       "            height=\"300\"\n",
       "            src=\"https://www.youtube.com/embed/tCG-Q71707k\"\n",
       "            frameborder=\"0\"\n",
       "            allowfullscreen\n",
       "        ></iframe>\n",
       "        "
      ],
      "text/plain": [
       "<IPython.lib.display.YouTubeVideo at 0x104f24c88>"
      ]
     },
     "execution_count": 2,
     "metadata": {},
     "output_type": "execute_result"
    }
   ],
   "source": [
    "from IPython.display import YouTubeVideo\n",
    "YouTubeVideo('tCG-Q71707k')"
   ]
  },
  {
   "cell_type": "code",
   "execution_count": 2,
   "metadata": {},
   "outputs": [
    {
     "name": "stdout",
     "output_type": "stream",
     "text": [
      "total 144\r\n",
      "drwxr-xr-x 3 jovyan users  6144 Jul 17 15:32 data\r\n",
      "-rw-r--r-- 1 jovyan users 48885 Jul 17 16:30 Debugging.ipynb\r\n",
      "-rw-r--r-- 1 jovyan users 27529 Jul 11 14:56 Generators.ipynb\r\n",
      "-rw-r--r-- 1 jovyan users 33722 Jul 12 15:05 LinuxCLI.ipynb\r\n",
      "-rw-r--r-- 1 jovyan users  2702 Jul 16 18:33 Pixie1.ipynb\r\n",
      "drwxr-xr-x 3 jovyan users  6144 Jul 16 15:42 pixiedust-files\r\n",
      "drwxrwxrwx 6 jovyan users  6144 Jun  5 22:22 shared\r\n",
      "-rw-r--r-- 1 jovyan users 11309 Jul 17 14:54 SparkMLlib.ipynb\r\n",
      "-rw-r--r-- 1 jovyan users   948 Jul 16 19:25 Untitled.ipynb\r\n"
     ]
    }
   ],
   "source": [
    "!ls -l"
   ]
  },
  {
   "cell_type": "markdown",
   "metadata": {
    "slideshow": {
     "slide_type": "slide"
    }
   },
   "source": [
    "# Let's look at the data:\n"
   ]
  },
  {
   "cell_type": "markdown",
   "metadata": {
    "slideshow": {
     "slide_type": "slide"
    }
   },
   "source": [
    "# Let's look at the data:\n",
    "* messy\n",
    "* combination of what appear to be \"definition\" lines as well as \"data\" lines\n",
    "* not what you would expect from a CSV file!\n"
   ]
  },
  {
   "cell_type": "markdown",
   "metadata": {
    "slideshow": {
     "slide_type": "slide"
    }
   },
   "source": [
    "# We want to extract the latitude, longitude, speed, altitude (and eventually heart rate) and create a more \"traditional\" CSV file.\n",
    "\n",
    "## <font color=\"magenta\">Question:  List 3 ways / libraries you could use to do this in python.<font>"
   ]
  },
  {
   "cell_type": "markdown",
   "metadata": {},
   "source": [
    "* CSVDictReader from csv\n",
    "* File open and then readline() from builtin python libraries\n",
    "* pd.read.csv(), pandas.read.csv(), read.csv(\"file\")"
   ]
  },
  {
   "cell_type": "code",
   "execution_count": null,
   "metadata": {},
   "outputs": [],
   "source": [
    "import csv\n",
    "with open(\"file\") as f:\n",
    "    reader = # fill this in \n",
    "    sldkjf\\\n",
    "print(something)"
   ]
  },
  {
   "cell_type": "code",
   "execution_count": null,
   "metadata": {},
   "outputs": [],
   "source": [
    "# Given 3,4,5, and 6.  What's the total?"
   ]
  },
  {
   "cell_type": "code",
   "execution_count": null,
   "metadata": {},
   "outputs": [],
   "source": [
    "answer = 18"
   ]
  },
  {
   "cell_type": "markdown",
   "metadata": {
    "autograder": {
     "question": "nb01q01"
    },
    "slideshow": {
     "slide_type": "skip"
    }
   },
   "source": [
    "(Insert your answer here)"
   ]
  },
  {
   "cell_type": "markdown",
   "metadata": {
    "slideshow": {
     "slide_type": "slide"
    }
   },
   "source": [
    "Insert here the slides and blurbs about the various commands and steps\n",
    "\n",
    "* use the script from the screencast to get the order and include the highlights as bullet points.\n",
    "* I've done the first couple; please follow the format as best you can\n",
    "* note the first two are very simple; please use your perspective as a student to fill in additional points to help\n",
    "explain what's going on... try it out on the Absolute vs. Relative paths slide\n",
    "* remember to change the \"Slide Type\" from blank to \"Slide\" in the Slideshow Cell Toolbar for the main slide; use fragments for \"animations\", and use subslides as appropriate.  Each command should be a \"Slide\".\n",
    "* please do up to and including "
   ]
  },
  {
   "cell_type": "markdown",
   "metadata": {
    "slideshow": {
     "slide_type": "slide"
    }
   },
   "source": [
    "# ls - list directory contents\n",
    "\n",
    "Example: \n",
    "```\n",
    "jovyan@jupyter-uniqname:~$ ls\n",
    "data shared\n",
    "```\n",
    "\n"
   ]
  },
  {
   "cell_type": "markdown",
   "metadata": {
    "slideshow": {
     "slide_type": "slide"
    }
   },
   "source": [
    "# cd - change working directory\n",
    "\n",
    "Example:\n",
    "```\n",
    "jovyan@jupyter-uniqname:~$ cd data\n",
    "jovyan@jupyter-uniqname:~/data$ \n",
    "```\n"
   ]
  },
  {
   "cell_type": "markdown",
   "metadata": {
    "slideshow": {
     "slide_type": "slide"
    }
   },
   "source": [
    "# pwd\n",
    "\n",
    "Example:\n",
    "```\n",
    "jovyan@jupyter-uniqname:~/data$ pwd\n",
    "/home/jovyan/data\n",
    "```\n"
   ]
  },
  {
   "cell_type": "markdown",
   "metadata": {
    "slideshow": {
     "slide_type": "slide"
    }
   },
   "source": [
    "# Absolute vs. Relative Paths\n",
    "* insert important points here"
   ]
  },
  {
   "cell_type": "markdown",
   "metadata": {
    "slideshow": {
     "slide_type": "slide"
    }
   },
   "source": [
    "# etc."
   ]
  },
  {
   "cell_type": "markdown",
   "metadata": {},
   "source": [
    "# STOP HERE"
   ]
  },
  {
   "cell_type": "markdown",
   "metadata": {
    "slideshow": {
     "slide_type": "slide"
    }
   },
   "source": [
    "# The ! magic command"
   ]
  },
  {
   "cell_type": "code",
   "execution_count": 1,
   "metadata": {},
   "outputs": [
    {
     "name": "stdout",
     "output_type": "stream",
     "text": [
      "total 156\r\n",
      "drwxr-xr-x 3 jovyan users  6144 Jul 17 15:32 data\r\n",
      "-rw-r--r-- 1 jovyan users 48885 Jul 17 16:30 Debugging.ipynb\r\n",
      "-rw-r--r-- 1 jovyan users 27529 Jul 11 14:56 Generators.ipynb\r\n",
      "-rw-r--r-- 1 jovyan users 38739 Jul 17 16:47 LinuxCLI.ipynb\r\n",
      "-rw-r--r-- 1 jovyan users  2702 Jul 16 18:33 Pixie1.ipynb\r\n",
      "drwxr-xr-x 3 jovyan users  6144 Jul 16 15:42 pixiedust-files\r\n",
      "drwxrwxrwx 6 jovyan users  6144 Jun  5 22:22 shared\r\n",
      "-rw-r--r-- 1 jovyan users 18411 Jul 19 21:25 SparkMLlib.ipynb\r\n",
      "-rw-r--r-- 1 jovyan users   948 Jul 16 19:25 Untitled.ipynb\r\n"
     ]
    }
   ],
   "source": [
    "!ls -l"
   ]
  },
  {
   "cell_type": "code",
   "execution_count": 20,
   "metadata": {},
   "outputs": [
    {
     "data": {
      "text/plain": [
       "['total 148',\n",
       " 'drwxr-xr-x 3 jovyan users  6144 Jul 17 15:32 data',\n",
       " '-rw-r--r-- 1 jovyan users 48885 Jul 17 16:30 Debugging.ipynb',\n",
       " '-rw-r--r-- 1 jovyan users 27529 Jul 11 14:56 Generators.ipynb',\n",
       " '-rw-r--r-- 1 jovyan users 36931 Jul 17 16:43 LinuxCLI.ipynb',\n",
       " '-rw-r--r-- 1 jovyan users  2702 Jul 16 18:33 Pixie1.ipynb',\n",
       " 'drwxr-xr-x 3 jovyan users  6144 Jul 16 15:42 pixiedust-files',\n",
       " 'drwxrwxrwx 6 jovyan users  6144 Jun  5 22:22 shared',\n",
       " '-rw-r--r-- 1 jovyan users 11309 Jul 17 14:54 SparkMLlib.ipynb',\n",
       " '-rw-r--r-- 1 jovyan users   948 Jul 16 19:25 Untitled.ipynb']"
      ]
     },
     "execution_count": 20,
     "metadata": {},
     "output_type": "execute_result"
    }
   ],
   "source": [
    "%system ls -l"
   ]
  },
  {
   "cell_type": "code",
   "execution_count": 21,
   "metadata": {},
   "outputs": [
    {
     "data": {
      "text/plain": [
       "['data',\n",
       " 'Debugging.ipynb',\n",
       " 'Generators.ipynb',\n",
       " 'LinuxCLI.ipynb',\n",
       " 'Pixie1.ipynb',\n",
       " 'pixiedust-files',\n",
       " 'shared',\n",
       " 'SparkMLlib.ipynb',\n",
       " 'Untitled.ipynb']"
      ]
     },
     "execution_count": 21,
     "metadata": {},
     "output_type": "execute_result"
    }
   ],
   "source": [
    "!!ls"
   ]
  },
  {
   "cell_type": "code",
   "execution_count": 22,
   "metadata": {},
   "outputs": [],
   "source": [
    "a = !ls"
   ]
  },
  {
   "cell_type": "code",
   "execution_count": 23,
   "metadata": {},
   "outputs": [
    {
     "data": {
      "text/plain": [
       "['data',\n",
       " 'Debugging.ipynb',\n",
       " 'Generators.ipynb',\n",
       " 'LinuxCLI.ipynb',\n",
       " 'Pixie1.ipynb',\n",
       " 'pixiedust-files',\n",
       " 'shared',\n",
       " 'SparkMLlib.ipynb',\n",
       " 'Untitled.ipynb']"
      ]
     },
     "execution_count": 23,
     "metadata": {},
     "output_type": "execute_result"
    }
   ],
   "source": [
    "a"
   ]
  },
  {
   "cell_type": "code",
   "execution_count": 24,
   "metadata": {},
   "outputs": [
    {
     "name": "stdout",
     "output_type": "stream",
     "text": [
      "total 148\n",
      "drwxr-xr-x 3 jovyan users  6144 Jul 17 15:32 data\n",
      "-rw-r--r-- 1 jovyan users 48885 Jul 17 16:30 Debugging.ipynb\n",
      "-rw-r--r-- 1 jovyan users 27529 Jul 11 14:56 Generators.ipynb\n",
      "-rw-r--r-- 1 jovyan users 38739 Jul 17 16:45 LinuxCLI.ipynb\n",
      "-rw-r--r-- 1 jovyan users  2702 Jul 16 18:33 Pixie1.ipynb\n",
      "drwxr-xr-x 3 jovyan users  6144 Jul 16 15:42 pixiedust-files\n",
      "drwxrwxrwx 6 jovyan users  6144 Jun  5 22:22 shared\n",
      "-rw-r--r-- 1 jovyan users 11309 Jul 17 14:54 SparkMLlib.ipynb\n",
      "-rw-r--r-- 1 jovyan users   948 Jul 16 19:25 Untitled.ipynb\n"
     ]
    }
   ],
   "source": [
    "%%bash\n",
    "ls -l"
   ]
  },
  {
   "cell_type": "markdown",
   "metadata": {},
   "source": [
    "### Learning Check\n",
    "\n",
    "\n",
    "Which of the following lines will work:\n",
    "\n",
    "* grep \"Data\" file.txt > file2.txt\n",
    "* sjdfh skdjfh skdjf\n",
    "* kjdsfkjhgdskfjghdkjfghkdjfhg "
   ]
  },
  {
   "cell_type": "markdown",
   "metadata": {},
   "source": [
    "### Homework\n",
    "\n",
    "Like Kevyn's courses (i.e. scaffolded step-by-step instructions).\n",
    "\n",
    "1. Use the linux command line interface to print the total number of calories used in the entire ride.  Your output should consist of only the number of calories expended.\n",
    "\n",
    "1. Extract all lines with \"Data,9\" and save your results to data2.csv\n",
    "\n",
    "1. Extract the Definition and Data lines for Data type 10.\n",
    "\n",
    "autograde data2.csv\n",
    "\n",
    "2. Take data2.csv and convert all lines to lowercase.  Save results to data3.csv\n",
    "\n",
    "autograde data3.csv\n",
    "\n",
    "3. blah, blah, blah"
   ]
  },
  {
   "cell_type": "code",
   "execution_count": null,
   "metadata": {},
   "outputs": [],
   "source": []
  }
 ],
 "metadata": {
  "celltoolbar": "Slideshow",
  "kernelspec": {
   "display_name": "Python 3",
   "language": "python",
   "name": "python3"
  },
  "language_info": {
   "codemirror_mode": {
    "name": "ipython",
    "version": 3
   },
   "file_extension": ".py",
   "mimetype": "text/x-python",
   "name": "python",
   "nbconvert_exporter": "python",
   "pygments_lexer": "ipython3",
   "version": "3.7.3"
  }
 },
 "nbformat": 4,
 "nbformat_minor": 2
}
